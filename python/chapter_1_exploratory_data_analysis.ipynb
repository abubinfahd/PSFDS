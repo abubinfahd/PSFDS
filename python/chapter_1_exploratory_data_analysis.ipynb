{
 "cells": [
  {
   "attachments": {},
   "cell_type": "markdown",
   "metadata": {},
   "source": [
    "# Practical Statistics for Data Scientists (Python)\n",
    "# Chapter 1. Exploratory Data Analysis\n",
    "> (c) 2019 Peter C. Bruce, Andrew Bruce, Peter Gedeck"
   ]
  },
  {
   "cell_type": "code",
   "execution_count": 2,
   "metadata": {},
   "outputs": [],
   "source": [
    "%matplotlib inline\n",
    "\n",
    "from pathlib import Path\n",
    "\n",
    "import pandas as pd\n",
    "import numpy as np\n",
    "from scipy.stats import trim_mean\n",
    "# from statsmodels import robust\n",
    "# import wquantiles\n",
    "\n",
    "import seaborn as sns\n",
    "import matplotlib.pylab as plt"
   ]
  },
  {
   "attachments": {},
   "cell_type": "markdown",
   "metadata": {},
   "source": [
    "Define paths to data sets."
   ]
  },
  {
   "attachments": {},
   "cell_type": "markdown",
   "metadata": {},
   "source": [
    "# Estimates of Location\n",
    "## Example: Location Estimates of Population and Murder Rates"
   ]
  },
  {
   "cell_type": "code",
   "execution_count": 7,
   "metadata": {},
   "outputs": [
    {
     "name": "stdout",
     "output_type": "stream",
     "text": [
      "         State  Population  Murder.Rate Abbreviation\n",
      "0      Alabama     4779736          5.7           AL\n",
      "1       Alaska      710231          5.6           AK\n",
      "2      Arizona     6392017          4.7           AZ\n",
      "3     Arkansas     2915918          5.6           AR\n",
      "4   California    37253956          4.4           CA\n",
      "5     Colorado     5029196          2.8           CO\n",
      "6  Connecticut     3574097          2.4           CT\n",
      "7     Delaware      897934          5.8           DE\n",
      "8      Florida    18801310          5.8           FL\n",
      "9      Georgia     9687653          5.7           GA\n"
     ]
    }
   ],
   "source": [
    "# Table 1-2\n",
    "state = pd.read_csv(\"D:\\PSFDS\\psfds\\data\\state.csv\")\n",
    "print(state.head(10))"
   ]
  },
  {
   "attachments": {},
   "cell_type": "markdown",
   "metadata": {},
   "source": [
    "Compute the mean, trimmed mean, and median for Population. For `mean` and `median` we can use the _pandas_ methods of the data frame. The trimmed mean requires the `trim_mean` function in _scipy.stats_."
   ]
  },
  {
   "cell_type": "code",
   "execution_count": 8,
   "metadata": {},
   "outputs": [
    {
     "name": "stdout",
     "output_type": "stream",
     "text": [
      "6162876.3\n"
     ]
    }
   ],
   "source": [
    "print(state['Population'].mean())"
   ]
  },
  {
   "cell_type": "code",
   "execution_count": 9,
   "metadata": {},
   "outputs": [
    {
     "name": "stdout",
     "output_type": "stream",
     "text": [
      "4783697.125\n"
     ]
    }
   ],
   "source": [
    "print(trim_mean(state['Population'], 0.1))"
   ]
  },
  {
   "cell_type": "code",
   "execution_count": 10,
   "metadata": {},
   "outputs": [
    {
     "name": "stdout",
     "output_type": "stream",
     "text": [
      "4436369.5\n"
     ]
    }
   ],
   "source": [
    "print(state['Population'].median())"
   ]
  },
  {
   "cell_type": "code",
   "execution_count": 11,
   "metadata": {},
   "outputs": [
    {
     "name": "stdout",
     "output_type": "stream",
     "text": [
      "4.066\n"
     ]
    }
   ],
   "source": [
    "print(state['Murder.Rate'].mean())"
   ]
  },
  {
   "cell_type": "code",
   "execution_count": 12,
   "metadata": {},
   "outputs": [
    {
     "name": "stdout",
     "output_type": "stream",
     "text": [
      "4.445833981123393\n"
     ]
    }
   ],
   "source": [
    "print(np.average(state['Murder.Rate'], weights=state['Population']))"
   ]
  },
  {
   "attachments": {},
   "cell_type": "markdown",
   "metadata": {},
   "source": [
    "# Estimates of Variability"
   ]
  },
  {
   "cell_type": "code",
   "execution_count": 13,
   "metadata": {},
   "outputs": [
    {
     "name": "stdout",
     "output_type": "stream",
     "text": [
      "6848235.347401142\n"
     ]
    }
   ],
   "source": [
    "# standard deviation\n",
    "print(state['Population'].std())"
   ]
  },
  {
   "cell_type": "code",
   "execution_count": 14,
   "metadata": {},
   "outputs": [
    {
     "name": "stdout",
     "output_type": "stream",
     "text": [
      "4847308.0\n"
     ]
    }
   ],
   "source": [
    "# Interquartile range is calculated as the difference of the 75% and 25% quantile.\n",
    "print(state['Population'].quantile(0.75) - state['Population'].quantile(0.25))"
   ]
  },
  {
   "attachments": {},
   "cell_type": "markdown",
   "metadata": {},
   "source": [
    "## Percentiles and Boxplots\n",
    "_Pandas_ has the `quantile` method for data frames."
   ]
  },
  {
   "cell_type": "code",
   "execution_count": 15,
   "metadata": {},
   "outputs": [
    {
     "name": "stdout",
     "output_type": "stream",
     "text": [
      "0.05    1.600\n",
      "0.25    2.425\n",
      "0.50    4.000\n",
      "0.75    5.550\n",
      "0.95    6.510\n",
      "Name: Murder.Rate, dtype: float64\n"
     ]
    }
   ],
   "source": [
    "print(state['Murder.Rate'].quantile([0.05, 0.25, 0.5, 0.75, 0.95]))"
   ]
  },
  {
   "cell_type": "code",
   "execution_count": 16,
   "metadata": {},
   "outputs": [
    {
     "name": "stdout",
     "output_type": "stream",
     "text": [
      "             5.0%  25.0%  50.0%  75.0%  95.0%\n",
      "Murder.Rate   1.6  2.425    4.0   5.55   6.51\n"
     ]
    }
   ],
   "source": [
    "# Table 1.4\n",
    "percentages = [0.05, 0.25, 0.5, 0.75, 0.95]\n",
    "df = pd.DataFrame(state['Murder.Rate'].quantile(percentages))\n",
    "df.index = [f'{p * 100}%' for p in percentages]\n",
    "print(df.transpose())"
   ]
  },
  {
   "cell_type": "code",
   "execution_count": 17,
   "metadata": {},
   "outputs": [
    {
     "data": {
      "image/png": "[encoded data removed]",
      "text/plain": [
       "<Figure size 300x400 with 1 Axes>"
      ]
     },
     "metadata": {},
     "output_type": "display_data"
    }
   ],
   "source": [
    "ax = (state['Population']/1_000_000).plot.box(figsize=(3, 4))\n",
    "ax.set_ylabel('Population (millions)')\n",
    "\n",
    "plt.tight_layout()\n",
    "plt.show()"
   ]
  }
 ],
 "metadata": {
  "kernelspec": {
   "display_name": "Python 3",
   "language": "python",
   "name": "python3"
  },
  "language_info": {
   "codemirror_mode": {
    "name": "ipython",
    "version": 3
   },
   "file_extension": ".py",
   "mimetype": "text/x-python",
   "name": "python",
   "nbconvert_exporter": "python",
   "pygments_lexer": "ipython3",
   "version": "3.9.5"
  },
  "orig_nbformat": 4
 },
 "nbformat": 4,
 "nbformat_minor": 2
}
